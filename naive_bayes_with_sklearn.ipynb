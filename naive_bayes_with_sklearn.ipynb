{
  "nbformat": 4,
  "nbformat_minor": 0,
  "metadata": {
    "colab": {
      "name": "naive_bayes_with_sklearn.ipynb",
      "provenance": [],
      "collapsed_sections": []
    },
    "kernelspec": {
      "name": "python3",
      "display_name": "Python 3"
    },
    "language_info": {
      "name": "python"
    }
  },
  "cells": [
    {
      "cell_type": "markdown",
      "source": [
        "Naive bayes\n",
        "For Iris"
      ],
      "metadata": {
        "id": "hjPfGAHOE8g_"
      }
    },
    {
      "cell_type": "code",
      "execution_count": 15,
      "metadata": {
        "colab": {
          "base_uri": "https://localhost:8080/"
        },
        "id": "Uw5gQpTWCnTn",
        "outputId": "6a7aeea5-9d40-4c45-9d89-99d528e0ac2e"
      },
      "outputs": [
        {
          "output_type": "execute_result",
          "data": {
            "text/plain": [
              "0.9555555555555556"
            ]
          },
          "metadata": {},
          "execution_count": 15
        }
      ],
      "source": [
        "import pandas as pd\n",
        "import numpy as np\n",
        "from sklearn.datasets import load_iris\n",
        "from sklearn.model_selection import train_test_split\n",
        "\n",
        "data=load_iris()\n",
        "X=pd.DataFrame(data=data.data,columns=data.feature_names)\n",
        "Y=data.target\n",
        "X.head()\n",
        "\n",
        "x_train,x_test,y_train,y_test=train_test_split(X,Y,test_size=0.3)\n",
        "from sklearn.naive_bayes import GaussianNB\n",
        "model=GaussianNB()\n",
        "model.fit(x_train,y_train)\n",
        "y_pred=model.predict(x_test)\n",
        "from sklearn.metrics import accuracy_score\n",
        "accuracy_score(y_test,y_pred)"
      ]
    },
    {
      "cell_type": "markdown",
      "source": [
        "Naive bayes for titanic"
      ],
      "metadata": {
        "id": "a8pgH_cqHFQ5"
      }
    },
    {
      "cell_type": "code",
      "source": [
        "import pandas as pd\n",
        "import numpy as np\n",
        "from sklearn.datasets import load_iris\n",
        "from sklearn.model_selection import train_test_split\n",
        "from sklearn import preprocessing\n",
        "le=preprocessing.LabelEncoder()\n",
        "\n",
        "data=pd.read_csv('titanic.csv')\n",
        "data.head()\n",
        "data['Sex1']=le.fit_transform(data['Sex'])\n",
        "\n",
        "X = data[['Pclass', 'Sex1', 'Age', 'Siblings/Spouses Aboard', 'Parents/Children Aboard']].values\n",
        "Y=data['Survived']\n",
        "# y_train = Y[:600]\n",
        "# y_test = Y[600:]\n",
        "\n",
        "# x_train = X[:600]\n",
        "# x_test = X[600:]\n",
        "\n",
        "x_train,x_test,y_train,y_test=train_test_split(X,Y,test_size=0.3)\n",
        "from sklearn.naive_bayes import GaussianNB\n",
        "model=GaussianNB()\n",
        "model.fit(x_train,y_train)\n",
        "from sklearn.metrics import accuracy_score\n",
        "y_pred=model.predict(x_test)\n",
        "print(accuracy_score(y_test,y_pred))\n",
        "\n"
      ],
      "metadata": {
        "colab": {
          "base_uri": "https://localhost:8080/"
        },
        "id": "Vye6Tv2dHJo5",
        "outputId": "4dbc97f3-b835-4133-fad5-97ee4345fb1b"
      },
      "execution_count": 43,
      "outputs": [
        {
          "output_type": "stream",
          "name": "stdout",
          "text": [
            "0.7677902621722846\n"
          ]
        }
      ]
    },
    {
      "cell_type": "markdown",
      "source": [
        "Naive bayes using tennis dataset"
      ],
      "metadata": {
        "id": "mDpzA1jikcbi"
      }
    },
    {
      "cell_type": "code",
      "source": [
        "\n",
        "# Assigning features and label variables, encoded in following way: \n",
        "\n",
        "#weather - Overcast: 0, Rainy: 1, Sunny: 2 \n",
        "#temp - Hot: 1, Mild: 2, Cool: 0\n",
        "#play - Yes: 1, No: 0\n",
        "#humidity - Normal: 1, High: 0\n",
        "#windy - weak: 1, strong: 0\n",
        "\n",
        "weather=['Sunny','Sunny','Overcast','Rainy','Rainy','Rainy','Overcast','Sunny','Sunny',\n",
        "'Rainy','Sunny','Overcast','Overcast','Rainy']\n",
        "temp=['Hot','Hot','Hot','Mild','Cool','Cool','Cool','Mild','Cool','Mild','Mild','Mild','Hot','Mild']\n",
        "humidity=['High', 'High','High','High','Normal','Normal','Normal','High', 'Normal','Normal','Normal','High','Normal','High'] \n",
        "windy=['weak', 'strong', 'weak', 'weak', 'weak', 'strong', 'strong', 'weak', 'weak', 'weak', 'strong', 'strong', 'weak','strong']\n",
        "\n",
        "\n",
        "play=['No','No','Yes','Yes','Yes','No','Yes','No','Yes','Yes','Yes','Yes','Yes','No']\n",
        "\n",
        "# Import LabelEncoder to Convert string labels into numbers\n",
        "\n",
        "from sklearn import preprocessing\n",
        "#creating labelEncoder\n",
        "labelEncoder = preprocessing.LabelEncoder()\n",
        "\n",
        "# Converting string labels into numbers.\n",
        "weather_encoded=labelEncoder.fit_transform(weather)\n",
        "print (\"Encoded value of weather outlook:\", weather_encoded)\n",
        "\n",
        "temp_encoded=labelEncoder.fit_transform(temp)\n",
        "label=labelEncoder.fit_transform(play)\n",
        "print (\"Encoded value of Temp:\",temp_encoded)\n",
        "\n",
        "humidity_encoded=labelEncoder.fit_transform(humidity)\n",
        "print (\"Encoded value of humidity:\", humidity_encoded)\n",
        "\n",
        "windy_encoded=labelEncoder.fit_transform(windy)\n",
        "print (\"Encoded value of windy:\", windy_encoded)\n",
        "\n",
        "print (\"\\nEncoded value of Play:\",label)\n",
        "\n",
        "\n",
        "features=tuple(zip(weather_encoded,temp_encoded,humidity_encoded,windy_encoded))\n",
        "print (\"Encoded features for each row is \\n\", features)\n",
        "\n",
        "#Import Gaussian Naive Bayes model\n",
        "from sklearn.naive_bayes import GaussianNB\n",
        "\n",
        "#Create a Gaussian Classifier\n",
        "model = GaussianNB()\n",
        "\n",
        "# Train the model using the training sets\n",
        "model.fit(features,label)\n",
        "\n",
        "new_data = [0,2,0,0] # 0:Overcast Weather, 2:Mild Temp, 0:Strong Windy, 0:Humidity Strong\n",
        "\n",
        "#Predict Output\n",
        "predicted= model.predict([new_data]) \n",
        "print (\"Predicted Value:\", predicted)\n",
        "\n",
        "print (\"Play Tennis: Yes\" if predicted else \"Play Tennis: No\")\n",
        "\n",
        "new_data = [2,0,0,0] # 0:Sunny Weather, 2:Cool Temp, 0:Strong Windy, 0:Humidity Strong\n",
        "\n",
        "\n",
        "predicted= model.predict([new_data]) \n",
        "print (\"Predicted Value:\", predicted)\n",
        "\n",
        "print (\"Play Tennis: Yes\" if predicted else \"Play Tennis: No\")\n",
        "\n",
        "\n"
      ],
      "metadata": {
        "colab": {
          "base_uri": "https://localhost:8080/"
        },
        "id": "-6EmORb0khCB",
        "outputId": "e180a84c-1f07-4299-d047-1564247074ef"
      },
      "execution_count": 44,
      "outputs": [
        {
          "output_type": "stream",
          "name": "stdout",
          "text": [
            "Encoded value of weather outlook: [2 2 0 1 1 1 0 2 2 1 2 0 0 1]\n",
            "Encoded value of Temp: [1 1 1 2 0 0 0 2 0 2 2 2 1 2]\n",
            "Encoded value of humidity: [0 0 0 0 1 1 1 0 1 1 1 0 1 0]\n",
            "Encoded value of windy: [1 0 1 1 1 0 0 1 1 1 0 0 1 0]\n",
            "\n",
            "Encoded value of Play: [0 0 1 1 1 0 1 0 1 1 1 1 1 0]\n",
            "Encoded features for each row is \n",
            " ((2, 1, 0, 1), (2, 1, 0, 0), (0, 1, 0, 1), (1, 2, 0, 1), (1, 0, 1, 1), (1, 0, 1, 0), (0, 0, 1, 0), (2, 2, 0, 1), (2, 0, 1, 1), (1, 2, 1, 1), (2, 2, 1, 0), (0, 2, 0, 0), (0, 1, 1, 1), (1, 2, 0, 0))\n",
            "Predicted Value: [1]\n",
            "Play Tennis: Yes\n",
            "Predicted Value: [0]\n",
            "Play Tennis: No\n"
          ]
        }
      ]
    }
  ]
}