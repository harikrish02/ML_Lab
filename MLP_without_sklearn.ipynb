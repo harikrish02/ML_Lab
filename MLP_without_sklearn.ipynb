{
  "nbformat": 4,
  "nbformat_minor": 0,
  "metadata": {
    "colab": {
      "name": "MLP_without_sklearn.ipynb",
      "provenance": []
    },
    "kernelspec": {
      "name": "python3",
      "display_name": "Python 3"
    },
    "language_info": {
      "name": "python"
    }
  },
  "cells": [
    {
      "cell_type": "code",
      "execution_count": 2,
      "metadata": {
        "colab": {
          "base_uri": "https://localhost:8080/"
        },
        "id": "gjaVE8NPYwIV",
        "outputId": "4b7e56de-292e-45aa-8428-b134785f7218"
      },
      "outputs": [
        {
          "output_type": "stream",
          "name": "stdout",
          "text": [
            "       Encoded Salary  Dept\n",
            "0                   1     7\n",
            "1                   2     7\n",
            "2                   2     7\n",
            "3                   1     7\n",
            "4                   1     7\n",
            "...               ...   ...\n",
            "14994               1     8\n",
            "14995               1     8\n",
            "14996               1     8\n",
            "14997               1     8\n",
            "14998               1     8\n",
            "\n",
            "[14999 rows x 2 columns]\n"
          ]
        },
        {
          "output_type": "execute_result",
          "data": {
            "text/plain": [
              "array(['sales', 'accounting', 'hr', 'technical', 'support', 'management',\n",
              "       'IT', 'product_mng', 'marketing', 'RandD', 7, 2, 3, 9, 8, 4, 0, 6,\n",
              "       5, 1], dtype=object)"
            ]
          },
          "metadata": {},
          "execution_count": 2
        }
      ],
      "source": [
        "import numpy as np\n",
        "import pandas as pd\n",
        "import sklearn.metrics \n",
        "from sklearn.metrics import confusion_matrix\n",
        "from sklearn.metrics import accuracy_score\n",
        "from sklearn import preprocessing\n",
        "from sklearn.model_selection import train_test_split\n",
        "from sklearn.neural_network import MLPClassifier\n",
        "import matplotlib.pyplot as plt\n",
        "from sklearn import metrics\n",
        "import itertools\n",
        "\n",
        "data=pd.read_csv('HR_comma_sep.csv')\n",
        "data.shape\n",
        "data.head()\n",
        "\n",
        "le = preprocessing.LabelEncoder()\n",
        "data['Encoded Salary']=le.fit_transform(data['salary'])\n",
        "data['Dept']=le.fit_transform(data['sales']) \n",
        "print(data[['Encoded Salary','Dept']])\n",
        "data.sales.unique()\n",
        "pd.unique(data[['sales', 'Dept']].values.ravel('K'))"
      ]
    },
    {
      "cell_type": "code",
      "source": [
        "X=data[['satisfaction_level', 'last_evaluation', 'number_project', 'average_montly_hours', \n",
        "        'time_spend_company', 'Work_accident', 'promotion_last_5years', 'Dept', 'Encoded Salary']]\n",
        "y=data['left']\n",
        "X_train, X_test, y_train, y_test = train_test_split(X, y, test_size=0.2, random_state=42)"
      ],
      "metadata": {
        "id": "bAmzBXzfZv1T"
      },
      "execution_count": 3,
      "outputs": []
    },
    {
      "cell_type": "code",
      "source": [
        "clf = MLPClassifier(hidden_layer_sizes=(6,5),\n",
        "                    random_state=5,\n",
        "                    verbose=False,\n",
        "                    learning_rate_init=0.01)\n",
        "\n",
        "clf.fit(X_train,y_train)\n",
        "#clf.loss_curve_\n",
        "\n",
        "testX = [[0.37,0.32,2,188,3,0,0,7,0]]  \n",
        "testpred=clf.predict(testX)\n",
        "print(\"testpred is :\", testpred)\n",
        "if testpred == 0: \n",
        "  print(\"Employee will stay\")\n",
        "else:\n",
        "  print(\"Employee will leave\")"
      ],
      "metadata": {
        "colab": {
          "base_uri": "https://localhost:8080/"
        },
        "id": "un0r4oiYZ0rJ",
        "outputId": "258cffe7-2f9b-4b53-e8c9-a22e06ff90cc"
      },
      "execution_count": 7,
      "outputs": [
        {
          "output_type": "stream",
          "name": "stdout",
          "text": [
            "testpred is : [1]\n",
            "Employee will leave\n"
          ]
        },
        {
          "output_type": "stream",
          "name": "stderr",
          "text": [
            "/usr/local/lib/python3.7/dist-packages/sklearn/base.py:451: UserWarning: X does not have valid feature names, but MLPClassifier was fitted with feature names\n",
            "  \"X does not have valid feature names, but\"\n"
          ]
        }
      ]
    },
    {
      "cell_type": "code",
      "source": [
        "# Make prediction on train dataset\n",
        "ypredtrain = clf.predict(X_train)\n",
        "\n",
        "# Calcuate accuracy\n",
        "print(\"Accuracy Score for Train Data is\",accuracy_score(y_train,ypredtrain))\n",
        "\n",
        "# Make prediction on test dataset\n",
        "ypredtest=clf.predict(X_test)\n",
        "\n",
        "# Calcuate accuracy\n",
        "print(\"Accuracy Score for Test Data is\", accuracy_score(y_test,ypredtest))\n"
      ],
      "metadata": {
        "colab": {
          "base_uri": "https://localhost:8080/"
        },
        "id": "c95BLTDYbSVX",
        "outputId": "7c7429ea-049e-4c99-a172-330e66a824a0"
      },
      "execution_count": 5,
      "outputs": [
        {
          "output_type": "stream",
          "name": "stdout",
          "text": [
            "Accuracy Score for Train Data is 0.9455787982331861\n",
            "Accuracy Score for Test Data is 0.938\n"
          ]
        }
      ]
    },
    {
      "cell_type": "code",
      "source": [
        "from sklearn.metrics import confusion_matrix\n",
        "conftrain=confusion_matrix(y_train,ypredtrain)\n",
        "print(\"Train Confusion Matrix is\\n\", conftrain)\n",
        "\n",
        "\n",
        "conftest=confusion_matrix(y_test,ypredtest)\n",
        "print(\"Test Confusion Matrix is\\n\", conftest)"
      ],
      "metadata": {
        "colab": {
          "base_uri": "https://localhost:8080/"
        },
        "id": "kinKcCXWbcId",
        "outputId": "e0709228-20bb-433c-901d-7ca239672e0c"
      },
      "execution_count": 6,
      "outputs": [
        {
          "output_type": "stream",
          "name": "stdout",
          "text": [
            "Train Confusion Matrix is\n",
            " [[8699  435]\n",
            " [ 218 2647]]\n",
            "Test Confusion Matrix is\n",
            " [[2175  119]\n",
            " [  67  639]]\n"
          ]
        }
      ]
    },
    {
      "cell_type": "code",
      "source": [
        "TN, FN, FP, TP = metrics.confusion_matrix(list(y_test), list(ypredtest), labels=[0, 1]).ravel() #0,1 is default label of sklearn\n",
        "\n",
        "\n",
        "print(\"\\n For Test Data\")\n",
        "print(\"\\nTH\",TN)\n",
        "print(\"\\nTP\",TP)\n",
        "print(\"\\nFH\",FN)\n",
        "print(\"\\nFP\",FP)\n",
        "\n",
        "TN, FN, FP, TP = metrics.confusion_matrix(list(y_train), list(ypredtrain), labels=[0, 1]).ravel() #0,1 is default label of sklearn\n",
        "\n",
        "print(\"\\n For Train Data\")\n",
        "print(\"\\nTH\",TN)\n",
        "print(\"\\nTP\",TP)\n",
        "print(\"\\nFH\",FN)\n",
        "print(\"\\nFP\",FP)\n",
        "\n",
        "print(\"\\n Test Precision is\", metrics.precision_score(y_test, ypredtest))\n",
        "print(\"\\n Train Precision is\", metrics.precision_score(y_train, ypredtrain))\n",
        "print(\"\\n Test Recall is\", metrics.recall_score(y_test, ypredtest))\n",
        "print(\"\\n Train Recall is\", metrics.recall_score(y_train, ypredtrain))"
      ],
      "metadata": {
        "colab": {
          "base_uri": "https://localhost:8080/"
        },
        "id": "8emzXb6AcEsE",
        "outputId": "e322de4e-d8b5-4531-cd65-32491c8285fd"
      },
      "execution_count": 13,
      "outputs": [
        {
          "output_type": "stream",
          "name": "stdout",
          "text": [
            "\n",
            " For Test Data\n",
            "\n",
            "TH 2175\n",
            "\n",
            "TP 639\n",
            "\n",
            "FH 119\n",
            "\n",
            "FP 67\n",
            "\n",
            " For Train Data\n",
            "\n",
            "TH 8699\n",
            "\n",
            "TP 2647\n",
            "\n",
            "FH 435\n",
            "\n",
            "FP 218\n",
            "\n",
            " Test Precision is 0.8430079155672823\n",
            "\n",
            " Train Precision is 0.8588578844905905\n",
            "\n",
            " Test Recall is 0.9050991501416431\n",
            "\n",
            " Train Recall is 0.9239092495636998\n"
          ]
        }
      ]
    },
    {
      "cell_type": "code",
      "source": [
        "import seaborn as sns\n",
        "import matplotlib.pyplot as plt\n",
        "cm=confusion_matrix(y_test,ypredtest)\n",
        "plt.figure(figsize=(10,7))\n",
        "sns.heatmap(cm,annot=True,cmap='rocket_r')"
      ],
      "metadata": {
        "colab": {
          "base_uri": "https://localhost:8080/",
          "height": 445
        },
        "id": "CsWDX2Q2c74W",
        "outputId": "f9fd6737-95cc-46b0-ed72-ce7597e210be"
      },
      "execution_count": 14,
      "outputs": [
        {
          "output_type": "execute_result",
          "data": {
            "text/plain": [
              "<matplotlib.axes._subplots.AxesSubplot at 0x7f6015ba71d0>"
            ]
          },
          "metadata": {},
          "execution_count": 14
        },
        {
          "output_type": "display_data",
          "data": {
            "text/plain": [
              "<Figure size 720x504 with 2 Axes>"
            ],
            "image/png": "[encoded data removed]"
          },
          "metadata": {
            "needs_background": "light"
          }
        }
      ]
    },
    {
      "cell_type": "code",
      "source": [
        "\n",
        "N_TRAIN_SAMPLES = X_train.shape[0]\n",
        "N_EPOCHS = 25\n",
        "N_BATCH = 128\n",
        "N_CLASSES = np.unique(y_train)\n",
        "\n",
        "scores_train = []\n",
        "scores_test = []\n",
        "\n",
        "# EPOCH\n",
        "epoch = 0\n",
        "while epoch < N_EPOCHS:\n",
        "    #print('epoch: ', epoch)\n",
        "    # SHUFFLING\n",
        "    # Do randon permutation umtil the # of rows in dataset. Here it is 14,999\n",
        "    random_perm = np.random.permutation(X_train.shape[0])\n",
        "    mini_batch_index = 0\n",
        "\n",
        "    #Do mini-batch training until # of rows are reached \n",
        "    while True:\n",
        "        # MINI-BATCH\n",
        "        # Do for a random # of rows + fixed batch sixe \n",
        "        indices = random_perm[mini_batch_index:mini_batch_index + N_BATCH]\n",
        "        # Fit the MLP Classifier \n",
        "        clf.partial_fit(X_train.iloc[indices], y_train.iloc[indices], classes=N_CLASSES)\n",
        "        # Do for the rest after the previous mini-batch index \n",
        "        mini_batch_index += N_BATCH\n",
        "\n",
        "        if mini_batch_index >= N_TRAIN_SAMPLES:\n",
        "            break\n",
        "\n",
        "    # ACCURACY SCORE FOR TRAIN\n",
        "    scores_train.append(clf.score(X_train, y_train))\n",
        "\n",
        "    # ACCURACY SCORE FOR TEST\n",
        "    scores_test.append(clf.score(X_test, y_test))\n",
        "\n",
        "    epoch += 1\n",
        "\n",
        "\"\"\" Plotting the Accuracy Score Over the 25 Epochs\"\"\"\n",
        "fig, ax = plt.subplots(2, sharex=True, sharey=True)\n",
        "ax[0].plot(scores_train)\n",
        "ax[0].set_title('Train')\n",
        "ax[1].plot(scores_test)\n",
        "ax[1].set_title('Test')\n",
        "fig.suptitle(\"Accuracy over epochs\", fontsize=14)\n",
        "plt.show()"
      ],
      "metadata": {
        "colab": {
          "base_uri": "https://localhost:8080/",
          "height": 294
        },
        "id": "96vKhAMje3oH",
        "outputId": "dbf4d65c-c5ec-4ddf-b903-d390ff0f1f7f"
      },
      "execution_count": 15,
      "outputs": [
        {
          "output_type": "display_data",
          "data": {
            "text/plain": [
              "<Figure size 432x288 with 2 Axes>"
            ],
            "image/png": "[encoded data removed]"
          },
          "metadata": {
            "needs_background": "light"
          }
        }
      ]
    }
  ]
}